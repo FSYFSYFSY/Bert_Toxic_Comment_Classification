{
 "cells": [
  {
   "cell_type": "markdown",
   "metadata": {},
   "source": [
    "# Configure the Library"
   ]
  },
  {
   "cell_type": "code",
   "execution_count": 2,
   "metadata": {},
   "outputs": [
    {
     "name": "stderr",
     "output_type": "stream",
     "text": [
      "c:\\Users\\mikew\\miniconda3\\Lib\\site-packages\\tqdm\\auto.py:21: TqdmWarning: IProgress not found. Please update jupyter and ipywidgets. See https://ipywidgets.readthedocs.io/en/stable/user_install.html\n",
      "  from .autonotebook import tqdm as notebook_tqdm\n"
     ]
    }
   ],
   "source": [
    "import numpy as np\n",
    "import pandas as pd\n",
    "import os\n",
    "import random\n",
    "import time\n",
    "\n",
    "import re\n",
    "import string\n",
    "import nltk\n",
    "from nltk.corpus import stopwords\n",
    "\n",
    "import matplotlib.pyplot as plt\n",
    "import seaborn as sns\n",
    "sns.set(style=\"ticks\", context=\"talk\")\n",
    "plt.style.use('dark_background')\n",
    "\n",
    "from tqdm import tqdm\n",
    "\n",
    "import torch\n",
    "import torch.nn as nn\n",
    "import torch.nn.functional as func\n",
    "from torch.utils.data import dataloader, dataset\n",
    "\n",
    "import transformers\n",
    "from transformers import AdamW, get_linear_schedule_with_warmup\n",
    "\n",
    "from sklearn.metrics import f1_score, mean_squared_error, roc_auc_score, roc_curve, auc\n",
    "from sklearn.model_selection import KFold, train_test_split\n",
    "\n",
    "import warnings\n",
    "warnings.simplefilter('ignore')"
   ]
  },
  {
   "cell_type": "markdown",
   "metadata": {},
   "source": [
    "# load dataset"
   ]
  },
  {
   "cell_type": "code",
   "execution_count": 5,
   "metadata": {},
   "outputs": [],
   "source": [
    "train = pd.read_csv('./dataset/train.csv.zip')\n",
    "test = pd.read_csv('./dataset/test.csv.zip' )\n",
    "test_label = pd.read_csv('./dataset/test_labels.csv.zip')\n",
    "#train.head()\n",
    "#test.head()\n",
    "#test_label.head()"
   ]
  },
  {
   "cell_type": "code",
   "execution_count": 11,
   "metadata": {},
   "outputs": [],
   "source": [
    "new_test = pd.merge(test, test_label, on='id', how='inner')\n",
    "new_test = new_test[(new_test.iloc[:, 3:8] != -1).all(axis=1)]"
   ]
  },
  {
   "cell_type": "code",
   "execution_count": 12,
   "metadata": {},
   "outputs": [
    {
     "data": {
      "text/html": [
       "<div>\n",
       "<style scoped>\n",
       "    .dataframe tbody tr th:only-of-type {\n",
       "        vertical-align: middle;\n",
       "    }\n",
       "\n",
       "    .dataframe tbody tr th {\n",
       "        vertical-align: top;\n",
       "    }\n",
       "\n",
       "    .dataframe thead th {\n",
       "        text-align: right;\n",
       "    }\n",
       "</style>\n",
       "<table border=\"1\" class=\"dataframe\">\n",
       "  <thead>\n",
       "    <tr style=\"text-align: right;\">\n",
       "      <th></th>\n",
       "      <th>id</th>\n",
       "      <th>comment_text</th>\n",
       "      <th>toxic</th>\n",
       "      <th>severe_toxic</th>\n",
       "      <th>obscene</th>\n",
       "      <th>threat</th>\n",
       "      <th>insult</th>\n",
       "      <th>identity_hate</th>\n",
       "    </tr>\n",
       "  </thead>\n",
       "  <tbody>\n",
       "    <tr>\n",
       "      <th>5</th>\n",
       "      <td>0001ea8717f6de06</td>\n",
       "      <td>Thank you for understanding. I think very high...</td>\n",
       "      <td>0</td>\n",
       "      <td>0</td>\n",
       "      <td>0</td>\n",
       "      <td>0</td>\n",
       "      <td>0</td>\n",
       "      <td>0</td>\n",
       "    </tr>\n",
       "    <tr>\n",
       "      <th>7</th>\n",
       "      <td>000247e83dcc1211</td>\n",
       "      <td>:Dear god this site is horrible.</td>\n",
       "      <td>0</td>\n",
       "      <td>0</td>\n",
       "      <td>0</td>\n",
       "      <td>0</td>\n",
       "      <td>0</td>\n",
       "      <td>0</td>\n",
       "    </tr>\n",
       "    <tr>\n",
       "      <th>11</th>\n",
       "      <td>0002f87b16116a7f</td>\n",
       "      <td>\"::: Somebody will invariably try to add Relig...</td>\n",
       "      <td>0</td>\n",
       "      <td>0</td>\n",
       "      <td>0</td>\n",
       "      <td>0</td>\n",
       "      <td>0</td>\n",
       "      <td>0</td>\n",
       "    </tr>\n",
       "    <tr>\n",
       "      <th>13</th>\n",
       "      <td>0003e1cccfd5a40a</td>\n",
       "      <td>\" \\n\\n It says it right there that it IS a typ...</td>\n",
       "      <td>0</td>\n",
       "      <td>0</td>\n",
       "      <td>0</td>\n",
       "      <td>0</td>\n",
       "      <td>0</td>\n",
       "      <td>0</td>\n",
       "    </tr>\n",
       "    <tr>\n",
       "      <th>14</th>\n",
       "      <td>00059ace3e3e9a53</td>\n",
       "      <td>\" \\n\\n == Before adding a new product to the l...</td>\n",
       "      <td>0</td>\n",
       "      <td>0</td>\n",
       "      <td>0</td>\n",
       "      <td>0</td>\n",
       "      <td>0</td>\n",
       "      <td>0</td>\n",
       "    </tr>\n",
       "    <tr>\n",
       "      <th>...</th>\n",
       "      <td>...</td>\n",
       "      <td>...</td>\n",
       "      <td>...</td>\n",
       "      <td>...</td>\n",
       "      <td>...</td>\n",
       "      <td>...</td>\n",
       "      <td>...</td>\n",
       "      <td>...</td>\n",
       "    </tr>\n",
       "    <tr>\n",
       "      <th>153150</th>\n",
       "      <td>fff8f64043129fa2</td>\n",
       "      <td>:Jerome, I see you never got around to this…! ...</td>\n",
       "      <td>0</td>\n",
       "      <td>0</td>\n",
       "      <td>0</td>\n",
       "      <td>0</td>\n",
       "      <td>0</td>\n",
       "      <td>0</td>\n",
       "    </tr>\n",
       "    <tr>\n",
       "      <th>153151</th>\n",
       "      <td>fff9d70fe0722906</td>\n",
       "      <td>==Lucky bastard== \\n http://wikimediafoundatio...</td>\n",
       "      <td>0</td>\n",
       "      <td>0</td>\n",
       "      <td>0</td>\n",
       "      <td>0</td>\n",
       "      <td>0</td>\n",
       "      <td>0</td>\n",
       "    </tr>\n",
       "    <tr>\n",
       "      <th>153154</th>\n",
       "      <td>fffa8a11c4378854</td>\n",
       "      <td>==shame on you all!!!== \\n\\n You want to speak...</td>\n",
       "      <td>0</td>\n",
       "      <td>0</td>\n",
       "      <td>0</td>\n",
       "      <td>0</td>\n",
       "      <td>0</td>\n",
       "      <td>0</td>\n",
       "    </tr>\n",
       "    <tr>\n",
       "      <th>153155</th>\n",
       "      <td>fffac2a094c8e0e2</td>\n",
       "      <td>MEL GIBSON IS A NAZI BITCH WHO MAKES SHITTY MO...</td>\n",
       "      <td>1</td>\n",
       "      <td>0</td>\n",
       "      <td>1</td>\n",
       "      <td>0</td>\n",
       "      <td>1</td>\n",
       "      <td>0</td>\n",
       "    </tr>\n",
       "    <tr>\n",
       "      <th>153156</th>\n",
       "      <td>fffb5451268fb5ba</td>\n",
       "      <td>\" \\n\\n == Unicorn lair discovery == \\n\\n Suppo...</td>\n",
       "      <td>0</td>\n",
       "      <td>0</td>\n",
       "      <td>0</td>\n",
       "      <td>0</td>\n",
       "      <td>0</td>\n",
       "      <td>0</td>\n",
       "    </tr>\n",
       "  </tbody>\n",
       "</table>\n",
       "<p>63978 rows × 8 columns</p>\n",
       "</div>"
      ],
      "text/plain": [
       "                      id                                       comment_text  \\\n",
       "5       0001ea8717f6de06  Thank you for understanding. I think very high...   \n",
       "7       000247e83dcc1211                   :Dear god this site is horrible.   \n",
       "11      0002f87b16116a7f  \"::: Somebody will invariably try to add Relig...   \n",
       "13      0003e1cccfd5a40a  \" \\n\\n It says it right there that it IS a typ...   \n",
       "14      00059ace3e3e9a53  \" \\n\\n == Before adding a new product to the l...   \n",
       "...                  ...                                                ...   \n",
       "153150  fff8f64043129fa2  :Jerome, I see you never got around to this…! ...   \n",
       "153151  fff9d70fe0722906  ==Lucky bastard== \\n http://wikimediafoundatio...   \n",
       "153154  fffa8a11c4378854  ==shame on you all!!!== \\n\\n You want to speak...   \n",
       "153155  fffac2a094c8e0e2  MEL GIBSON IS A NAZI BITCH WHO MAKES SHITTY MO...   \n",
       "153156  fffb5451268fb5ba  \" \\n\\n == Unicorn lair discovery == \\n\\n Suppo...   \n",
       "\n",
       "        toxic  severe_toxic  obscene  threat  insult  identity_hate  \n",
       "5           0             0        0       0       0              0  \n",
       "7           0             0        0       0       0              0  \n",
       "11          0             0        0       0       0              0  \n",
       "13          0             0        0       0       0              0  \n",
       "14          0             0        0       0       0              0  \n",
       "...       ...           ...      ...     ...     ...            ...  \n",
       "153150      0             0        0       0       0              0  \n",
       "153151      0             0        0       0       0              0  \n",
       "153154      0             0        0       0       0              0  \n",
       "153155      1             0        1       0       1              0  \n",
       "153156      0             0        0       0       0              0  \n",
       "\n",
       "[63978 rows x 8 columns]"
      ]
     },
     "execution_count": 12,
     "metadata": {},
     "output_type": "execute_result"
    }
   ],
   "source": [
    "new_test"
   ]
  },
  {
   "cell_type": "markdown",
   "metadata": {},
   "source": [
    "# Clean the dataset -- helper function for removing non-sense fragment"
   ]
  },
  {
   "cell_type": "code",
   "execution_count": 97,
   "metadata": {},
   "outputs": [],
   "source": [
    "def clean_text(text):\n",
    "\n",
    "    text = re.sub('\\[.*?\\]', '', text)\n",
    "    #pattern = [zero or more character]\n",
    "\n",
    "    text = re.sub('https?://\\S+|www\\.\\S+', '', text)\n",
    "    #pattern = removes (http),://, 'and' www.\n",
    "    \n",
    "    text = re.sub('<.*?>+', '', text)\n",
    "    text = re.sub('[%s]' % re.escape(string.punctuation), '', text)\n",
    "    #pattern = any punctionation\n",
    "\n",
    "    text = re.sub('\\n', '', text)\n",
    "    #pattern = any new line\n",
    "\n",
    "    text = re.sub('\\w*\\d\\w*', '', text)\n",
    "    #pattern = any from[a-zA-Z0-9_], any from[0-9], any from [a-zA-Z0-9_]\n",
    "\n",
    "    return text\n",
    "\n",
    "\n",
    "train['clean'] = train['comment_text'].apply(str).apply(lambda x: clean_text(x))\n",
    "test['clean'] = test['comment_text'].apply(str).apply(lambda x: clean_text(x))"
   ]
  },
  {
   "cell_type": "markdown",
   "metadata": {},
   "source": [
    "# DataLoader"
   ]
  },
  {
   "cell_type": "code",
   "execution_count": 98,
   "metadata": {},
   "outputs": [],
   "source": [
    "class BertDataSet(dataset.Dataset):\n",
    "    \n",
    "    def __init__(self, texts, labels, tokenizer, max_len, if_train=True):\n",
    "        self.texts = texts\n",
    "        #self.labels = labels.to_numpy()\n",
    "        self.if_train = if_train\n",
    "        if self.if_train:\n",
    "            self.labels = labels\n",
    "        self.tokenizer = tokenizer\n",
    "        self.max_len = max_len\n",
    "    \n",
    "    def __len__(self):\n",
    "        return len(self.texts)\n",
    "    \n",
    "    def __getitem__(self, item):\n",
    "        text = str(self.texts.iloc[item])\n",
    "        \n",
    "        if self.if_train:\n",
    "            label = self.labels.iloc[item]\n",
    "\n",
    "        inputs = self.tokenizer.encode_plus(\n",
    "            text,\n",
    "            None,\n",
    "            add_special_tokens=True,\n",
    "            max_length=self.max_len,\n",
    "            padding='max_length',\n",
    "            return_token_type_ids=False,\n",
    "            return_attention_mask=True,\n",
    "            truncation=True\n",
    "        )\n",
    "\n",
    "        if self.if_train:\n",
    "            return {\n",
    "                #'text': text,\n",
    "                'input_ids':torch.tensor(inputs['input_ids'], dtype=torch.long),\n",
    "                'mask': torch.tensor(inputs['attention_mask'], dtype=torch.long),\n",
    "                'labels': torch.tensor(label, dtype=torch.float)\n",
    "            }\n",
    "        else:\n",
    "            return{\n",
    "            'input_ids':torch.tensor(inputs['input_ids'], dtype=torch.long),\n",
    "            'mask': torch.tensor(inputs['attention_mask'], dtype=torch.long)\n",
    "            }\n",
    "     "
   ]
  },
  {
   "cell_type": "markdown",
   "metadata": {},
   "source": [
    "# Model definition"
   ]
  },
  {
   "cell_type": "code",
   "execution_count": 99,
   "metadata": {},
   "outputs": [
    {
     "name": "stdout",
     "output_type": "stream",
     "text": [
      "The devices using is : cuda\n"
     ]
    },
    {
     "name": "stderr",
     "output_type": "stream",
     "text": [
      "Some weights of BertForSequenceClassification were not initialized from the model checkpoint at bert-base-uncased and are newly initialized: ['classifier.bias', 'classifier.weight']\n",
      "You should probably TRAIN this model on a down-stream task to be able to use it for predictions and inference.\n"
     ]
    }
   ],
   "source": [
    "train_batch = 64\n",
    "valid_batch = 64\n",
    "\n",
    "epochs = 8\n",
    "\n",
    "device = torch.device('cuda' if torch.cuda.is_available() else 'cpu')\n",
    "#device = 'cpu'\n",
    "print(f\"The devices using is : {device}\")\n",
    "\n",
    "#Using K-folder\n",
    "kf = KFold(n_splits=5, shuffle=True, random_state=42)\n",
    "#X_train, X_val, y_train, y_val = train_test_split(X, y, test_size=0.2, random_state=42)\n",
    "# fold_index = 0\n",
    "\n",
    "fold_losses = []\n",
    "fold_valid = []\n",
    "\n",
    "best_model  = None\n",
    "best_loss = None\n",
    "best_index = 0\n",
    "\n",
    "loss_fn = nn.BCEWithLogitsLoss() # for sigmoid on multi-label tasks\n",
    "loss_fn.to(device)\n",
    "\n",
    "tokenizer = transformers.BertTokenizer.from_pretrained('bert-base-uncased', do_lower_case=True)\n",
    "model = transformers.BertForSequenceClassification.from_pretrained('bert-base-uncased', num_labels = 6).to(device)"
   ]
  },
  {
   "cell_type": "markdown",
   "metadata": {},
   "source": [
    "# train"
   ]
  },
  {
   "cell_type": "code",
   "execution_count": 84,
   "metadata": {},
   "outputs": [
    {
     "name": "stderr",
     "output_type": "stream",
     "text": [
      "  0%|          | 0/125 [00:00<?, ?it/s]"
     ]
    },
    {
     "name": "stderr",
     "output_type": "stream",
     "text": [
      "100%|██████████| 125/125 [00:31<00:00,  3.98it/s]\n"
     ]
    },
    {
     "name": "stdout",
     "output_type": "stream",
     "text": [
      "Training Epoch 1/8, Loss: 0.7282451448440552.\n",
      "Validating Epoch 1/8, Loss: 0.723490409553051\n"
     ]
    },
    {
     "name": "stderr",
     "output_type": "stream",
     "text": [
      "100%|██████████| 125/125 [00:30<00:00,  4.07it/s]\n"
     ]
    },
    {
     "name": "stdout",
     "output_type": "stream",
     "text": [
      "Training Epoch 2/8, Loss: 0.5981463413238526.\n",
      "Validating Epoch 2/8, Loss: 0.5946425553411245\n"
     ]
    },
    {
     "name": "stderr",
     "output_type": "stream",
     "text": [
      "100%|██████████| 125/125 [00:31<00:00,  3.95it/s]\n"
     ]
    },
    {
     "name": "stdout",
     "output_type": "stream",
     "text": [
      "Training Epoch 3/8, Loss: 0.4232682707309723.\n",
      "Validating Epoch 3/8, Loss: 0.41515783965587616\n"
     ]
    },
    {
     "name": "stderr",
     "output_type": "stream",
     "text": [
      "100%|██████████| 125/125 [00:31<00:00,  3.97it/s]\n"
     ]
    },
    {
     "name": "stdout",
     "output_type": "stream",
     "text": [
      "Training Epoch 4/8, Loss: 0.32758832788467407.\n",
      "Validating Epoch 4/8, Loss: 0.31850223429501057\n"
     ]
    },
    {
     "name": "stderr",
     "output_type": "stream",
     "text": [
      "100%|██████████| 125/125 [00:31<00:00,  4.00it/s]\n"
     ]
    },
    {
     "name": "stdout",
     "output_type": "stream",
     "text": [
      "Training Epoch 5/8, Loss: 0.2803383252620697.\n",
      "Validating Epoch 5/8, Loss: 0.2672398309223354\n"
     ]
    },
    {
     "name": "stderr",
     "output_type": "stream",
     "text": [
      "100%|██████████| 125/125 [00:31<00:00,  4.00it/s]\n"
     ]
    },
    {
     "name": "stdout",
     "output_type": "stream",
     "text": [
      "Training Epoch 6/8, Loss: 0.24668029391765595.\n",
      "Validating Epoch 6/8, Loss: 0.2362980330362916\n"
     ]
    },
    {
     "name": "stderr",
     "output_type": "stream",
     "text": [
      "100%|██████████| 125/125 [00:31<00:00,  4.02it/s]\n"
     ]
    },
    {
     "name": "stdout",
     "output_type": "stream",
     "text": [
      "Training Epoch 7/8, Loss: 0.20390451097488405.\n",
      "Validating Epoch 7/8, Loss: 0.1916341669857502\n"
     ]
    },
    {
     "name": "stderr",
     "output_type": "stream",
     "text": [
      "100%|██████████| 125/125 [00:31<00:00,  4.01it/s]\n"
     ]
    },
    {
     "name": "stdout",
     "output_type": "stream",
     "text": [
      "Training Epoch 8/8, Loss: 0.27457230401039123.\n",
      "Validating Epoch 8/8, Loss: 0.25830465694889426\n"
     ]
    }
   ],
   "source": [
    "train_index, valid_index = next(iter(kf.split(train)))\n",
    "\n",
    "train_kf = train.iloc[train_index]\n",
    "valid_kf = train.iloc[valid_index]\n",
    "\n",
    "train_dataset = BertDataSet(train_kf['clean'], train_kf[['toxic', 'severe_toxic','obscene', 'threat', 'insult','identity_hate']], tokenizer, 77)\n",
    "valid_dataset = BertDataSet(valid_kf['clean'], valid_kf[['toxic', 'severe_toxic','obscene', 'threat', 'insult','identity_hate']], tokenizer, 77)\n",
    "\n",
    "#train_dataset = BertDataSet(train_kf, tokenizer, eval_mode = False)\n",
    "#valid_dataset = BertDataSet(valid_kf, tokenizer, eval_mode = True)\n",
    "\n",
    "train_dataloader = dataloader.DataLoader(train_dataset, batch_size = train_batch, pin_memory = True, num_workers = 0, shuffle = True)\n",
    "valid_dataloader = dataloader.DataLoader(valid_dataset, batch_size = valid_batch, pin_memory = True, num_workers = 0, shuffle = False)\n",
    "\n",
    "LR  = 1e-6\n",
    "optimizer = AdamW(model.parameters(), LR, betas = (0.9, 0.999), weight_decay = 1e-2, correct_bias = False)\n",
    "\n",
    "training_losses = []\n",
    "valid_losses = []\n",
    "\n",
    "\n",
    "for epoch in range(epochs):   \n",
    "    model.train()\n",
    "    total_loss = 0 \n",
    "    valid_loss = 0\n",
    "    with torch.cuda.amp.autocast():\n",
    "    \n",
    "        for batch in tqdm(train_dataloader):\n",
    "            \n",
    "            optimizer.zero_grad()\n",
    "            input_ids = batch['input_ids'].to(device)\n",
    "            attention_mask = batch['mask'].to(device)\n",
    "            labels = batch['labels'].to(device)\n",
    "            \n",
    "            outputs = model(input_ids, attention_mask=attention_mask, labels = labels)\n",
    "            outputs = outputs['logits']\n",
    "            \n",
    "            toxic_labels = batch['labels'].to(device, non_blocking=True)\n",
    "            loss = loss_fn(outputs, toxic_labels)\n",
    "            total_loss += loss.item()\n",
    "            \n",
    "            loss.backward()\n",
    "            optimizer.step()\n",
    "            \n",
    "        avg_loss = total_loss / len(train_dataloader)\n",
    "        training_losses.append(avg_loss)\n",
    "        print(f\"Training Epoch {epoch+1}/{epochs}, Loss: {avg_loss}.\")\n",
    "    \n",
    "        model.eval()\n",
    "        true_labels = []\n",
    "        predictions = []\n",
    "        \n",
    "        for batch in valid_dataloader:\n",
    "            \n",
    "            input_ids = batch['input_ids'].to(device)\n",
    "            attention_mask = batch['mask'].to(device)\n",
    "            labels = batch['labels'].to(device)\n",
    "                    \n",
    "            \n",
    "            with torch.no_grad():\n",
    "                outputs = model(input_ids, attention_mask = attention_mask)\n",
    "                \n",
    "            outputs = outputs['logits'].squeeze(-1)\n",
    "            \n",
    "            toxic_labels = batch['labels'].to(device, non_blocking=True)\n",
    "            loss = loss_fn(outputs, toxic_labels)\n",
    "            valid_loss += loss.item()\n",
    "            \n",
    "        avg_valid_loss = valid_loss / len(valid_dataloader)\n",
    "        valid_losses.append(avg_valid_loss)   \n",
    "        #f1 = f1_score(true_labels, predictions, average='weighted')  #Error : Classification metrics can't handle a mix of multilabel-indicator and binary targets       \n",
    "        print(f\"Validating Epoch {epoch+1}/{epochs}, Loss: {avg_valid_loss}\")\n",
    "    \n",
    "    '''\n",
    "    if( best_loss == None or avg_valid_loss > best_loss ):\n",
    "        \n",
    "        best_model = model\n",
    "        best_loss = avg_valid_loss\n",
    "        fold_losses = training_losses\n",
    "        fold_valid = valid_losses\n",
    "        print(\"Find the better model\")\n",
    "    '''\n",
    "best_model = model\n",
    "best_loss = avg_valid_loss\n",
    "fold_losses = training_losses\n",
    "fold_valid = valid_losses\n",
    "best_model.save_pretrained('./fintune_bert')    \n"
   ]
  },
  {
   "cell_type": "code",
   "execution_count": 85,
   "metadata": {},
   "outputs": [
    {
     "data": {
      "image/png": "[encoded data removed]",
      "text/plain": [
       "<Figure size 640x480 with 1 Axes>"
      ]
     },
     "metadata": {},
     "output_type": "display_data"
    }
   ],
   "source": [
    "# draw the losses of the best model\n",
    "best_train_losses = fold_losses\n",
    "best_valid_losses = valid_losses\n",
    "\n",
    "plt.plot(best_train_losses, color='green')\n",
    "plt.plot(best_valid_losses, color = 'blue')\n",
    "plt.xlabel('Epoch')\n",
    "plt.ylabel('Average Loss')\n",
    "plt.title('Loss Plot')\n",
    "plt.show()\n"
   ]
  },
  {
   "cell_type": "code",
   "execution_count": 86,
   "metadata": {},
   "outputs": [
    {
     "name": "stdout",
     "output_type": "stream",
     "text": [
      "8\n"
     ]
    }
   ],
   "source": [
    "print(len(best_train_losses))"
   ]
  },
  {
   "cell_type": "markdown",
   "metadata": {},
   "source": [
    "# Evaluation"
   ]
  },
  {
   "cell_type": "code",
   "execution_count": 87,
   "metadata": {},
   "outputs": [],
   "source": [
    "#import gc\n",
    "#tokenizer = None\n",
    "#best_model = None\n",
    "#model = None\n",
    "#torch.cuda.empty_cache()\n",
    "#gc.collect()"
   ]
  },
  {
   "cell_type": "code",
   "execution_count": 88,
   "metadata": {},
   "outputs": [],
   "source": [
    "def get_roc_auc(test_label, y_prob):\n",
    "    # input: test_labels dim: (num_samples, num_labels), y_prob dim: (num_samples, num_labels)\n",
    "    y_label_np = test_label.numpy() if hasattr(test_label, 'numpy') else test_label.cpu().numpy()\n",
    "    y_test_np = y_prob.numpy() if hasattr(y_prob, 'numpy') else y_prob.cpu().numpy()\n",
    "\n",
    "    n_classes = y_label_np.shape[1]  # Number of classes/labels\n",
    "\n",
    "# Initialize lists to store fpr and tpr for each label\n",
    "    all_fpr = []\n",
    "    all_tpr = []\n",
    "    label_names = []\n",
    "    auc_scores = []\n",
    "    # Compute ROC curve for each label\n",
    "    for i in range(n_classes):\n",
    "        fpr, tpr, _ = roc_curve(y_label_np[:, i], y_test_np[:, i])\n",
    "        all_fpr.append(fpr)\n",
    "        all_tpr.append(tpr)\n",
    "        auc = roc_auc_score(y_label_np[:, i], y_test_np[:, i])\n",
    "        label_names.append(f\"Label {i}\")\n",
    "        auc_scores.append(auc)\n",
    "\n",
    "    # Plot ROC curve for each label\n",
    "    plt.figure(figsize=(10, 6))\n",
    "    for i in range(n_classes):\n",
    "        plt.plot(all_fpr[i], all_tpr[i], label=f'ROC curve (Label {i})')\n",
    "\n",
    "    plt.plot([0, 1], [0, 1], color='navy', linestyle='--')\n",
    "    plt.xlim([0.0, 1.0])\n",
    "    plt.ylim([0.0, 1.05])\n",
    "    plt.xlabel('False Positive Rate')\n",
    "    plt.ylabel('True Positive Rate')\n",
    "    plt.title('ROC Curve for each label')\n",
    "    plt.legend(loc='lower right')\n",
    "    plt.show()\n",
    "    auc_table = pd.DataFrame({'Label': label_names, 'AUC Score': auc_scores})\n",
    "\n",
    "    print(auc_table)\n",
    "     "
   ]
  },
  {
   "cell_type": "code",
   "execution_count": 89,
   "metadata": {},
   "outputs": [],
   "source": [
    "def get_accuracy(y_label, y_test):\n",
    "    prediction = torch.where(y_test > 0.5, 1, 0)\n",
    "    y_label_np = prediction.numpy() if hasattr(prediction, 'numpy') else prediction.cpu().numpy()\n",
    "    y_test_np = y_label.numpy() if hasattr(y_label, 'numpy') else y_label.cpu().numpy()\n",
    "    \n",
    "    n_class = y_label_np.shape[1]\n",
    "    n_samples = y_label_np.shape[0]\n",
    "\n",
    "    total_num = y_label_np.shape[0] * y_label_np.shape[1]\n",
    "    correct = 0\n",
    "    for i in range(n_class):\n",
    "        for j in range(n_samples):\n",
    "            if y_test_np[j,i] == y_label_np[j,i]:\n",
    "                correct += 1 \n",
    "    accuracy = correct / total_num\n",
    "    return accuracy\n"
   ]
  },
  {
   "cell_type": "code",
   "execution_count": 100,
   "metadata": {},
   "outputs": [
    {
     "name": "stderr",
     "output_type": "stream",
     "text": [
      "Some weights of BertForSequenceClassification were not initialized from the model checkpoint at bert-base-uncased and are newly initialized: ['classifier.bias', 'classifier.weight']\n",
      "You should probably TRAIN this model on a down-stream task to be able to use it for predictions and inference.\n"
     ]
    }
   ],
   "source": [
    "#loading test_dataset\n",
    "test_dataset = BertDataSet(test['clean'], None, tokenizer, 77, if_train = False)\n",
    "test_dataloader = dataloader.DataLoader(test_dataset, batch_size = 64, pin_memory = True, num_workers = 0, shuffle = True)\n",
    "\n",
    "config_path = './fintune_bert/config.json'\n",
    "model_path = './fintune_bert/model.safetensors'\n",
    "\n",
    "config = transformers.BertConfig.from_json_file(config_path)\n",
    "\n",
    "best_model = transformers.BertForSequenceClassification.from_pretrained(model_path, config=config).to(device)\n",
    "\n",
    "best_model = transformers.BertForSequenceClassification.from_pretrained('bert-base-uncased', num_labels = 6).to(device)\n",
    "\n",
    "probability_tensors = None"
   ]
  },
  {
   "cell_type": "code",
   "execution_count": 91,
   "metadata": {},
   "outputs": [
    {
     "name": "stdout",
     "output_type": "stream",
     "text": [
      "1000\n"
     ]
    }
   ],
   "source": [
    "print(len(test_dataset))"
   ]
  },
  {
   "cell_type": "code",
   "execution_count": 101,
   "metadata": {},
   "outputs": [
    {
     "name": "stderr",
     "output_type": "stream",
     "text": [
      "100%|██████████| 16/16 [00:01<00:00, 10.15it/s]"
     ]
    },
    {
     "name": "stdout",
     "output_type": "stream",
     "text": [
      "tensor([[0.2904, 0.5286, 0.3729, 0.4817, 0.5380, 0.3027],\n",
      "        [0.2838, 0.5472, 0.3924, 0.5099, 0.5260, 0.3553],\n",
      "        [0.2958, 0.5413, 0.3896, 0.4894, 0.5306, 0.3419],\n",
      "        ...,\n",
      "        [0.2796, 0.5328, 0.3881, 0.5008, 0.5397, 0.3376],\n",
      "        [0.2850, 0.5516, 0.3983, 0.5003, 0.5213, 0.3665],\n",
      "        [0.2790, 0.5648, 0.4120, 0.4830, 0.5368, 0.3655]])\n"
     ]
    },
    {
     "name": "stderr",
     "output_type": "stream",
     "text": [
      "\n"
     ]
    }
   ],
   "source": [
    "best_model.eval()\n",
    "with torch.no_grad():\n",
    "    for test in tqdm(test_dataloader):\n",
    "        \n",
    "        ids = test['input_ids'].to(device)\n",
    "        mask = test['mask'].to(device)\n",
    "        outputs = best_model(ids, mask)\n",
    "        #print(outputs.keys())\n",
    "        results = outputs['logits']\n",
    "        #print(results)\n",
    "        \n",
    "        raw_predictions = torch.sigmoid(results)    \n",
    "        prediction = torch.where(raw_predictions > 0.5, -1, 0)\n",
    "        \n",
    "        #print(raw_predictions)\n",
    "        #print(prediction)\n",
    "        \n",
    "        if probability_tensors == None:\n",
    "            probability_tensors = raw_predictions\n",
    "        else:\n",
    "            probability_tensors = torch.cat((probability_tensors, raw_predictions), dim=0)\n",
    "            \n",
    "        #break\n",
    "        \n",
    "    probability_tensors = probability_tensors.detach().to('cpu')   \n",
    "    print(probability_tensors)"
   ]
  },
  {
   "cell_type": "markdown",
   "metadata": {},
   "source": [
    "#"
   ]
  },
  {
   "cell_type": "code",
   "execution_count": 102,
   "metadata": {},
   "outputs": [
    {
     "data": {
      "image/png": "[encoded data removed]",
      "text/plain": [
       "<Figure size 1000x600 with 1 Axes>"
      ]
     },
     "metadata": {},
     "output_type": "display_data"
    },
    {
     "name": "stdout",
     "output_type": "stream",
     "text": [
      "     Label  AUC Score\n",
      "0  Label 0   0.510251\n",
      "1  Label 1   0.475639\n",
      "2  Label 2   0.506036\n",
      "3  Label 3   0.504566\n",
      "4  Label 4   0.501619\n",
      "5  Label 5   0.491462\n"
     ]
    }
   ],
   "source": [
    "ground_truth = torch.tensor(test_label[['toxic', 'severe_toxic','obscene', 'threat', 'insult','identity_hate']].values)\n",
    "y_label = torch.where(ground_truth == -1, 1,0)\n",
    "y_rand = torch.rand(200,6)\n",
    "# print(y_test)\n",
    "# print(y_label)\n",
    "get_roc_auc(y_label, probability_tensors)\n",
    "#get_roc_auc(y_label, y_rand)"
   ]
  },
  {
   "cell_type": "code",
   "execution_count": 103,
   "metadata": {},
   "outputs": [
    {
     "data": {
      "text/plain": [
       "0.47783333333333333"
      ]
     },
     "execution_count": 103,
     "metadata": {},
     "output_type": "execute_result"
    }
   ],
   "source": [
    "get_accuracy(y_label, probability_tensors)"
   ]
  }
 ],
 "metadata": {
  "kernelspec": {
   "display_name": "Python 3",
   "language": "python",
   "name": "python3"
  },
  "language_info": {
   "codemirror_mode": {
    "name": "ipython",
    "version": 3
   },
   "file_extension": ".py",
   "mimetype": "text/x-python",
   "name": "python",
   "nbconvert_exporter": "python",
   "pygments_lexer": "ipython3",
   "version": "3.12.2"
  }
 },
 "nbformat": 4,
 "nbformat_minor": 2
}

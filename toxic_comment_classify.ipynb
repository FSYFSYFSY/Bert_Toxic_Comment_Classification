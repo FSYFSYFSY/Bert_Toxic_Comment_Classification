{
 "cells": [
  {
   "cell_type": "markdown",
   "metadata": {},
   "source": [
    "# Configure the Library"
   ]
  },
  {
   "cell_type": "code",
   "execution_count": 1,
   "metadata": {},
   "outputs": [
    {
     "name": "stderr",
     "output_type": "stream",
     "text": [
      "c:\\Users\\lhg45\\miniconda3\\Lib\\site-packages\\tqdm\\auto.py:21: TqdmWarning: IProgress not found. Please update jupyter and ipywidgets. See https://ipywidgets.readthedocs.io/en/stable/user_install.html\n",
      "  from .autonotebook import tqdm as notebook_tqdm\n"
     ]
    }
   ],
   "source": [
    "import numpy as np\n",
    "import pandas as pd\n",
    "import os\n",
    "import random\n",
    "import time\n",
    "\n",
    "import re\n",
    "import string\n",
    "import nltk\n",
    "from nltk.corpus import stopwords\n",
    "\n",
    "import matplotlib.pyplot as plt\n",
    "import seaborn as sns\n",
    "sns.set(style=\"ticks\", context=\"talk\")\n",
    "plt.style.use('dark_background')\n",
    "\n",
    "from tqdm import tqdm\n",
    "\n",
    "import torch\n",
    "import torch.nn as nn\n",
    "import torch.nn.functional as func\n",
    "from torch.utils.data import dataloader, dataset\n",
    "\n",
    "import transformers\n",
    "from transformers import AdamW, get_linear_schedule_with_warmup\n",
    "\n",
    "from sklearn.metrics import f1_score, mean_squared_error, roc_auc_score, roc_curve, auc\n",
    "from sklearn.model_selection import KFold, train_test_split\n",
    "\n",
    "import warnings\n",
    "warnings.simplefilter('ignore')"
   ]
  },
  {
   "cell_type": "markdown",
   "metadata": {},
   "source": [
    "# load dataset"
   ]
  },
  {
   "cell_type": "code",
   "execution_count": 2,
   "metadata": {},
   "outputs": [
    {
     "data": {
      "text/html": [
       "<div>\n",
       "<style scoped>\n",
       "    .dataframe tbody tr th:only-of-type {\n",
       "        vertical-align: middle;\n",
       "    }\n",
       "\n",
       "    .dataframe tbody tr th {\n",
       "        vertical-align: top;\n",
       "    }\n",
       "\n",
       "    .dataframe thead th {\n",
       "        text-align: right;\n",
       "    }\n",
       "</style>\n",
       "<table border=\"1\" class=\"dataframe\">\n",
       "  <thead>\n",
       "    <tr style=\"text-align: right;\">\n",
       "      <th></th>\n",
       "      <th>id</th>\n",
       "      <th>comment_text</th>\n",
       "      <th>toxic</th>\n",
       "      <th>severe_toxic</th>\n",
       "      <th>obscene</th>\n",
       "      <th>threat</th>\n",
       "      <th>insult</th>\n",
       "      <th>identity_hate</th>\n",
       "    </tr>\n",
       "  </thead>\n",
       "  <tbody>\n",
       "    <tr>\n",
       "      <th>0</th>\n",
       "      <td>0000997932d777bf</td>\n",
       "      <td>Explanation\\nWhy the edits made under my usern...</td>\n",
       "      <td>0</td>\n",
       "      <td>0</td>\n",
       "      <td>0</td>\n",
       "      <td>0</td>\n",
       "      <td>0</td>\n",
       "      <td>0</td>\n",
       "    </tr>\n",
       "    <tr>\n",
       "      <th>1</th>\n",
       "      <td>000103f0d9cfb60f</td>\n",
       "      <td>D'aww! He matches this background colour I'm s...</td>\n",
       "      <td>0</td>\n",
       "      <td>0</td>\n",
       "      <td>0</td>\n",
       "      <td>0</td>\n",
       "      <td>0</td>\n",
       "      <td>0</td>\n",
       "    </tr>\n",
       "    <tr>\n",
       "      <th>2</th>\n",
       "      <td>000113f07ec002fd</td>\n",
       "      <td>Hey man, I'm really not trying to edit war. It...</td>\n",
       "      <td>0</td>\n",
       "      <td>0</td>\n",
       "      <td>0</td>\n",
       "      <td>0</td>\n",
       "      <td>0</td>\n",
       "      <td>0</td>\n",
       "    </tr>\n",
       "    <tr>\n",
       "      <th>3</th>\n",
       "      <td>0001b41b1c6bb37e</td>\n",
       "      <td>\"\\nMore\\nI can't make any real suggestions on ...</td>\n",
       "      <td>0</td>\n",
       "      <td>0</td>\n",
       "      <td>0</td>\n",
       "      <td>0</td>\n",
       "      <td>0</td>\n",
       "      <td>0</td>\n",
       "    </tr>\n",
       "    <tr>\n",
       "      <th>4</th>\n",
       "      <td>0001d958c54c6e35</td>\n",
       "      <td>You, sir, are my hero. Any chance you remember...</td>\n",
       "      <td>0</td>\n",
       "      <td>0</td>\n",
       "      <td>0</td>\n",
       "      <td>0</td>\n",
       "      <td>0</td>\n",
       "      <td>0</td>\n",
       "    </tr>\n",
       "  </tbody>\n",
       "</table>\n",
       "</div>"
      ],
      "text/plain": [
       "                 id                                       comment_text  toxic  \\\n",
       "0  0000997932d777bf  Explanation\\nWhy the edits made under my usern...      0   \n",
       "1  000103f0d9cfb60f  D'aww! He matches this background colour I'm s...      0   \n",
       "2  000113f07ec002fd  Hey man, I'm really not trying to edit war. It...      0   \n",
       "3  0001b41b1c6bb37e  \"\\nMore\\nI can't make any real suggestions on ...      0   \n",
       "4  0001d958c54c6e35  You, sir, are my hero. Any chance you remember...      0   \n",
       "\n",
       "   severe_toxic  obscene  threat  insult  identity_hate  \n",
       "0             0        0       0       0              0  \n",
       "1             0        0       0       0              0  \n",
       "2             0        0       0       0              0  \n",
       "3             0        0       0       0              0  \n",
       "4             0        0       0       0              0  "
      ]
     },
     "execution_count": 2,
     "metadata": {},
     "output_type": "execute_result"
    }
   ],
   "source": [
    "train = pd.read_csv('./dataset/train.csv.zip')\n",
    "test = pd.read_csv('./dataset/test.csv.zip')\n",
    "test_label = pd.read_csv('./dataset/test_labels.csv.zip')\n",
    "new_test = pd.merge(test, test_label, on='id', how='inner')\n",
    "new_test = new_test[(new_test.iloc[:, 3:8] != -1).all(axis=1)]\n",
    "train.head()\n",
    "#new_test = new_test.head(1000)\n",
    "#test.head()\n",
    "#test_label.head()"
   ]
  },
  {
   "cell_type": "markdown",
   "metadata": {},
   "source": [
    "# Clean the dataset -- helper function for removing non-sense fragment"
   ]
  },
  {
   "cell_type": "code",
   "execution_count": 3,
   "metadata": {},
   "outputs": [],
   "source": [
    "def clean_text(text):\n",
    "\n",
    "    text = re.sub('\\[.*?\\]', '', text)\n",
    "    #pattern = [zero or more character]\n",
    "\n",
    "    text = re.sub('https?://\\S+|www\\.\\S+', '', text)\n",
    "    #pattern = removes (http),://, 'and' www.\n",
    "    \n",
    "    text = re.sub('<.*?>+', '', text)\n",
    "    text = re.sub('[%s]' % re.escape(string.punctuation), '', text)\n",
    "    #pattern = any punctionation\n",
    "\n",
    "    text = re.sub('\\n', '', text)\n",
    "    #pattern = any new line\n",
    "\n",
    "    text = re.sub('\\w*\\d\\w*', '', text)\n",
    "    #pattern = any from[a-zA-Z0-9_], any from[0-9], any from [a-zA-Z0-9_]\n",
    "\n",
    "    return text\n",
    "\n",
    "\n",
    "train['clean'] = train['comment_text'].apply(str).apply(lambda x: clean_text(x))\n",
    "new_test['clean'] = new_test['comment_text'].apply(str).apply(lambda x: clean_text(x))"
   ]
  },
  {
   "cell_type": "markdown",
   "metadata": {},
   "source": [
    "# DataLoader"
   ]
  },
  {
   "cell_type": "code",
   "execution_count": 4,
   "metadata": {},
   "outputs": [],
   "source": [
    "class BertDataSet(dataset.Dataset):\n",
    "    \n",
    "    def __init__(self, texts, labels, tokenizer, max_len, if_train=True):\n",
    "        self.texts = texts\n",
    "        #self.labels = labels.to_numpy()\n",
    "        self.if_train = if_train\n",
    "        if self.if_train:\n",
    "            self.labels = labels\n",
    "        self.tokenizer = tokenizer\n",
    "        self.max_len = max_len\n",
    "    \n",
    "    def __len__(self):\n",
    "        return len(self.texts)\n",
    "    \n",
    "    def __getitem__(self, item):\n",
    "        text = str(self.texts.iloc[item])\n",
    "        \n",
    "        if self.if_train:\n",
    "            label = self.labels.iloc[item]\n",
    "\n",
    "        inputs = self.tokenizer.encode_plus(\n",
    "            text,\n",
    "            None,\n",
    "            add_special_tokens=True,\n",
    "            max_length=self.max_len,\n",
    "            padding='max_length',\n",
    "            return_token_type_ids=False,\n",
    "            return_attention_mask=True,\n",
    "            truncation=True\n",
    "        )\n",
    "\n",
    "        if self.if_train:\n",
    "            return {\n",
    "                #'text': text,\n",
    "                'input_ids':torch.tensor(inputs['input_ids'], dtype=torch.long),\n",
    "                'mask': torch.tensor(inputs['attention_mask'], dtype=torch.long),\n",
    "                'labels': torch.tensor(label, dtype=torch.float)\n",
    "            }\n",
    "        else:\n",
    "            return{\n",
    "            'input_ids':torch.tensor(inputs['input_ids'], dtype=torch.long),\n",
    "            'mask': torch.tensor(inputs['attention_mask'], dtype=torch.long)\n",
    "            }\n",
    "     "
   ]
  },
  {
   "cell_type": "markdown",
   "metadata": {},
   "source": [
    "# Model definition"
   ]
  },
  {
   "cell_type": "code",
   "execution_count": 5,
   "metadata": {},
   "outputs": [
    {
     "name": "stdout",
     "output_type": "stream",
     "text": [
      "The devices using is : cuda\n"
     ]
    },
    {
     "name": "stderr",
     "output_type": "stream",
     "text": [
      "Some weights of BertForSequenceClassification were not initialized from the model checkpoint at bert-base-uncased and are newly initialized: ['classifier.bias', 'classifier.weight']\n",
      "You should probably TRAIN this model on a down-stream task to be able to use it for predictions and inference.\n"
     ]
    }
   ],
   "source": [
    "train_batch = 32\n",
    "valid_batch = 32\n",
    "\n",
    "epochs = 4\n",
    "\n",
    "device = torch.device('cuda' if torch.cuda.is_available() else 'cpu')\n",
    "#device = 'cpu'\n",
    "print(f\"The devices using is : {device}\")\n",
    "\n",
    "tokenizer = transformers.BertTokenizer.from_pretrained('bert-base-uncased', do_lower_case=True)\n",
    "model = transformers.BertForSequenceClassification.from_pretrained('bert-base-uncased', num_labels = 6).to(device)\n",
    "\n",
    "fold_losses = []\n",
    "fold_valid = []\n",
    "\n",
    "best_model  = None\n",
    "best_loss = None\n",
    "best_index = 0\n",
    "\n",
    "loss_fn = nn.BCEWithLogitsLoss() # for sigmoid on multi-label tasks\n",
    "loss_fn.to(device)\n",
    "\n",
    "LR  = 2e-7\n",
    "\n",
    "optimizer = AdamW(model.parameters(), LR, betas = (0.9, 0.999), weight_decay = 1e-2)\n",
    "\n",
    "scaler = torch.cuda.amp.GradScaler()\n",
    "\n",
    "train_steps = int((len(train) * epochs)/train_batch)\n",
    "num_steps = int(train_steps * 0.1)\n",
    "scheduler = get_linear_schedule_with_warmup(optimizer, num_steps, train_steps)\n",
    "\n"
   ]
  },
  {
   "cell_type": "code",
   "execution_count": 8,
   "metadata": {},
   "outputs": [],
   "source": [
    "#Freeze Layers\n",
    "for param in model.bert.embeddings.parameters():\n",
    "    param.requires_grad = False\n",
    "    \n",
    "for layer in model.bert.encoder.layer[:3]:\n",
    "    for param in layer.parameters():\n",
    "        param.requires_grad = False"
   ]
  },
  {
   "cell_type": "markdown",
   "metadata": {},
   "source": [
    "# train"
   ]
  },
  {
   "cell_type": "markdown",
   "metadata": {},
   "source": [
    "## old_version"
   ]
  },
  {
   "cell_type": "code",
   "execution_count": null,
   "metadata": {},
   "outputs": [
    {
     "data": {
      "text/plain": [
       "'\\nkf = KFold(n_splits = 5, shuffle = True, random_state=42)\\n\\ntrain_index, valid_index = next(iter(kf.split(train)))\\n\\ntrain_kf = train.iloc[train_index].reset_index(drop = True)\\nvalid_kf = train.iloc[valid_index].reset_index(drop = True)\\n\\ntrain_dataset = BertDataSet(train_kf[\\'clean\\'], train_kf[[\\'toxic\\', \\'severe_toxic\\',\\'obscene\\', \\'threat\\', \\'insult\\',\\'identity_hate\\']], tokenizer, 128)\\nvalid_dataset = BertDataSet(valid_kf[\\'clean\\'], valid_kf[[\\'toxic\\', \\'severe_toxic\\',\\'obscene\\', \\'threat\\', \\'insult\\',\\'identity_hate\\']], tokenizer, 128)\\n\\n#train_dataset = BertDataSet(train_kf, tokenizer, eval_mode = False)\\n#valid_dataset = BertDataSet(valid_kf, tokenizer, eval_mode = True)\\n\\ntrain_dataloader = dataloader.DataLoader(train_dataset, batch_size = train_batch, pin_memory = True, num_workers = 0, shuffle = True)\\nvalid_dataloader = dataloader.DataLoader(valid_dataset, batch_size = valid_batch, pin_memory = True, num_workers = 0, shuffle = False)\\n\\n\\ntraining_losses = []\\nvalid_losses = []\\n\\ntotal_steps = len(train_dataloader) * epochs\\n\\n#scheduler = get_linear_schedule_with_warmup(optimizer, num_warmup_steps = 0, num_training_steps = total_steps)\\n\\n\\nfor epoch in range(epochs):   \\n    model.train()\\n    train_losses = []\\n    valid_losses = []\\n    with torch.cuda.amp.autocast():\\n    \\n        for batch in tqdm(train_dataloader):\\n            \\n            optimizer.zero_grad()\\n            input_ids = batch[\\'input_ids\\'].to(device)\\n            attention_mask = batch[\\'mask\\'].to(device)\\n            labels = batch[\\'labels\\'].to(device)\\n            \\n            outputs = model(input_ids, attention_mask=attention_mask, labels = labels)\\n            outputs = outputs[\\'logits\\']\\n            \\n            toxic_labels = batch[\\'labels\\'].to(device, non_blocking=True)\\n            loss = loss_fn(outputs, toxic_labels)\\n            \\n            #loss = outputs.loss\\n            train_losses.append(loss.item())\\n            \\n            loss.backward()\\n            optimizer.step()\\n            \\n            scheduler.step()\\n            \\n        avg_loss = np.mean(train_losses)\\n        training_losses.append(avg_loss)\\n        print(f\"Training Epoch {epoch+1}/{epochs}, Loss: {avg_loss}.\")\\n    \\n        model.eval()\\n        true_labels = []\\n        predictions = []\\n        \\n        for batch in valid_dataloader:\\n            \\n            input_ids = batch[\\'input_ids\\'].to(device)\\n            attention_mask = batch[\\'mask\\'].to(device)\\n            labels = batch[\\'labels\\'].to(device)\\n                    \\n            \\n            with torch.no_grad():\\n                #outputs = model(input_ids, attention_mask = attention_mask)\\n                outputs = model(input_ids, attention_mask = attention_mask, labels = labels)\\n                \\n            outputs = outputs[\\'logits\\'].squeeze(-1)\\n            \\n            toxic_labels = batch[\\'labels\\'].to(device, non_blocking=True)\\n            loss = loss_fn(outputs, toxic_labels)\\n            #loss = outputs.loss\\n            valid_losses.append(loss.item())\\n            \\n        avg_valid_loss = np.mean(valid_losses)\\n        valid_losses.append(avg_valid_loss)   \\n        #f1 = f1_score(true_labels, predictions, average=\\'weighted\\')  #Error : Classification metrics can\\'t handle a mix of multilabel-indicator and binary targets       \\n        print(f\"Validating Epoch {epoch+1}/{epochs}, Loss: {avg_valid_loss}\")\\n    \\nbest_model = model\\nbest_loss = avg_valid_loss\\nfold_losses = training_losses\\nfold_valid = valid_losses\\nbest_model.save_pretrained(\\'./fintune_bert\\')    \\n'"
      ]
     },
     "execution_count": 6,
     "metadata": {},
     "output_type": "execute_result"
    }
   ],
   "source": [
    "'''\n",
    "kf = KFold(n_splits = 5, shuffle = True, random_state=42)\n",
    "\n",
    "train_index, valid_index = next(iter(kf.split(train)))\n",
    "\n",
    "train_kf = train.iloc[train_index].reset_index(drop = True)\n",
    "valid_kf = train.iloc[valid_index].reset_index(drop = True)\n",
    "\n",
    "train_dataset = BertDataSet(train_kf['clean'], train_kf[['toxic', 'severe_toxic','obscene', 'threat', 'insult','identity_hate']], tokenizer, 128)\n",
    "valid_dataset = BertDataSet(valid_kf['clean'], valid_kf[['toxic', 'severe_toxic','obscene', 'threat', 'insult','identity_hate']], tokenizer, 128)\n",
    "\n",
    "#train_dataset = BertDataSet(train_kf, tokenizer, eval_mode = False)\n",
    "#valid_dataset = BertDataSet(valid_kf, tokenizer, eval_mode = True)\n",
    "\n",
    "train_dataloader = dataloader.DataLoader(train_dataset, batch_size = train_batch, pin_memory = True, num_workers = 0, shuffle = True)\n",
    "valid_dataloader = dataloader.DataLoader(valid_dataset, batch_size = valid_batch, pin_memory = True, num_workers = 0, shuffle = False)\n",
    "\n",
    "\n",
    "training_losses = []\n",
    "valid_losses = []\n",
    "\n",
    "total_steps = len(train_dataloader) * epochs\n",
    "\n",
    "#scheduler = get_linear_schedule_with_warmup(optimizer, num_warmup_steps = 0, num_training_steps = total_steps)\n",
    "\n",
    "\n",
    "for epoch in range(epochs):   \n",
    "    model.train()\n",
    "    train_losses = []\n",
    "    valid_losses = []\n",
    "    with torch.cuda.amp.autocast():\n",
    "    \n",
    "        for batch in tqdm(train_dataloader):\n",
    "            \n",
    "            optimizer.zero_grad()\n",
    "            input_ids = batch['input_ids'].to(device)\n",
    "            attention_mask = batch['mask'].to(device)\n",
    "            labels = batch['labels'].to(device)\n",
    "            \n",
    "            outputs = model(input_ids, attention_mask=attention_mask, labels = labels)\n",
    "            outputs = outputs['logits']\n",
    "            \n",
    "            toxic_labels = batch['labels'].to(device, non_blocking=True)\n",
    "            loss = loss_fn(outputs, toxic_labels)\n",
    "            \n",
    "            #loss = outputs.loss\n",
    "            train_losses.append(loss.item())\n",
    "            \n",
    "            loss.backward()\n",
    "            optimizer.step()\n",
    "            \n",
    "            scheduler.step()\n",
    "            \n",
    "        avg_loss = np.mean(train_losses)\n",
    "        training_losses.append(avg_loss)\n",
    "        print(f\"Training Epoch {epoch+1}/{epochs}, Loss: {avg_loss}.\")\n",
    "    \n",
    "        model.eval()\n",
    "        true_labels = []\n",
    "        predictions = []\n",
    "        \n",
    "        for batch in valid_dataloader:\n",
    "            \n",
    "            input_ids = batch['input_ids'].to(device)\n",
    "            attention_mask = batch['mask'].to(device)\n",
    "            labels = batch['labels'].to(device)\n",
    "                    \n",
    "            \n",
    "            with torch.no_grad():\n",
    "                #outputs = model(input_ids, attention_mask = attention_mask)\n",
    "                outputs = model(input_ids, attention_mask = attention_mask, labels = labels)\n",
    "                \n",
    "            outputs = outputs['logits'].squeeze(-1)\n",
    "            \n",
    "            toxic_labels = batch['labels'].to(device, non_blocking=True)\n",
    "            loss = loss_fn(outputs, toxic_labels)\n",
    "            #loss = outputs.loss\n",
    "            valid_losses.append(loss.item())\n",
    "            \n",
    "        avg_valid_loss = np.mean(valid_losses)\n",
    "        valid_losses.append(avg_valid_loss)   \n",
    "        #f1 = f1_score(true_labels, predictions, average='weighted')  #Error : Classification metrics can't handle a mix of multilabel-indicator and binary targets       \n",
    "        print(f\"Validating Epoch {epoch+1}/{epochs}, Loss: {avg_valid_loss}\")\n",
    "    \n",
    "best_model = model\n",
    "best_loss = avg_valid_loss\n",
    "fold_losses = training_losses\n",
    "fold_valid = valid_losses\n",
    "best_model.save_pretrained('./fintune_bert')    \n",
    "'''"
   ]
  },
  {
   "cell_type": "code",
   "execution_count": null,
   "metadata": {},
   "outputs": [
    {
     "data": {
      "text/plain": [
       "\"\\n# draw the losses of the best model\\nbest_train_losses = fold_losses\\nbest_valid_losses = valid_losses\\n\\nplt.plot(best_train_losses, color='green')\\nplt.plot(best_valid_losses, color = 'blue')\\nplt.xlabel('Epoch')\\nplt.ylabel('Average Loss')\\nplt.title('Loss Plot')\\nplt.show()\\n\""
      ]
     },
     "execution_count": 7,
     "metadata": {},
     "output_type": "execute_result"
    }
   ],
   "source": [
    "'''\n",
    "# draw the losses of the best model\n",
    "best_train_losses = fold_losses\n",
    "best_valid_losses = valid_losses\n",
    "\n",
    "plt.plot(best_train_losses, color='green')\n",
    "plt.plot(best_valid_losses, color = 'blue')\n",
    "plt.xlabel('Epoch')\n",
    "plt.ylabel('Average Loss')\n",
    "plt.title('Loss Plot')\n",
    "plt.show()\n",
    "'''"
   ]
  },
  {
   "cell_type": "markdown",
   "metadata": {},
   "source": [
    "## new_version"
   ]
  },
  {
   "cell_type": "code",
   "execution_count": null,
   "metadata": {},
   "outputs": [],
   "source": [
    "\n",
    "#Using K-folder\n",
    "kfold = 5\n",
    "train['kfold'] = train.index % kfold\n",
    "train.index % kfold\n",
    "\n",
    "p_train = train[train[\"kfold\"] != 0].reset_index(drop = True)\n",
    "p_valid = train[train[\"kfold\"] == 0].reset_index(drop = True)\n",
    "\n",
    "#Setting dataset\n",
    "train_dataset = BertDataSet(p_train['clean'], p_train[['toxic', 'severe_toxic','obscene', 'threat', 'insult','identity_hate']], tokenizer, 128)\n",
    "valid_dataset = BertDataSet(p_valid['clean'], p_valid[['toxic', 'severe_toxic','obscene', 'threat', 'insult','identity_hate']], tokenizer, 128)\n",
    "\n",
    "train_dataloader = dataloader.DataLoader(train_dataset, batch_size = train_batch, pin_memory = True, num_workers = 0, shuffle = True)\n",
    "valid_dataloader = dataloader.DataLoader(valid_dataset, batch_size = valid_batch, pin_memory = True, num_workers = 0, shuffle = False)\n",
    "\n",
    "\n",
    "def training(train_dataloader, model, optimizer, scheduler):\n",
    "    model.train()\n",
    "    torch.backends.cudnn.benchmark = True\n",
    "    correct_predictions = 0\n",
    "    \n",
    "    for batch in tqdm(train_dataloader):\n",
    "        losses = []\n",
    "        optimizer.zero_grad()\n",
    "        \n",
    "        with torch.cuda.amp.autocast():\n",
    "            \n",
    "            ids = batch['input_ids'].to(device, non_blocking = True)\n",
    "            mask = batch['mask'].to(device, non_blocking = True) \n",
    "\n",
    "            output = model(ids, mask) \n",
    "            output = output['logits'].squeeze(-1).to(torch.float32)\n",
    "\n",
    "            output_probs = torch.sigmoid(output)\n",
    "            \n",
    "            toxic_label = batch['labels'].to(device, non_blocking = True) \n",
    "            loss = loss_fn(output, toxic_label)            \n",
    "            \n",
    "            losses.append(loss.item())\n",
    "            preds = torch.where(output_probs > 0.5, 1, 0)\n",
    "        \n",
    "            correct_predictions += torch.sum(preds == toxic_label)\n",
    "        \n",
    "        scaler.scale(loss).backward() \n",
    "        scaler.step(optimizer) \n",
    "        scaler.update() \n",
    "                        \n",
    "        scheduler.step() \n",
    "    \n",
    "    losses = np.mean(losses)\n",
    "    correctness = correct_predictions.detach().cpu().numpy()\n",
    "    accuracy = correctness/(len(p_train)*6)\n",
    "    \n",
    "    return losses, accuracy\n",
    "\n",
    "def validating(valid_dataloader, model):\n",
    "    \n",
    "    model.eval()\n",
    "    correct_predictions = 0\n",
    "    all_output_probs = []\n",
    "    \n",
    "    for batch in tqdm(valid_dataloader):\n",
    "        losses = []\n",
    "        ids = batch['input_ids'].to(device, non_blocking = True)\n",
    "        mask = batch['mask'].to(device, non_blocking = True)\n",
    "        \n",
    "        with torch.no_grad():\n",
    "            output = model(ids, mask)\n",
    "            \n",
    "        output = output['logits'].squeeze(-1).to(torch.float32)\n",
    "        output_probs = torch.sigmoid(output)\n",
    "        preds = torch.where(output_probs > 0.5, 1, 0)\n",
    "            \n",
    "        toxic_label = batch['labels'].to(device, non_blocking = True)\n",
    "        loss = loss_fn(output, toxic_label)\n",
    "        \n",
    "        losses.append(loss.item())\n",
    "        all_output_probs.extend(output_probs.detach().cpu().numpy())\n",
    "        \n",
    "        correct_predictions += torch.sum(preds == toxic_label)\n",
    "    \n",
    "    losses = np.mean(losses)\n",
    "    correctness = correct_predictions.detach().cpu().numpy()\n",
    "    accuracy = correctness/(len(p_valid)*6)\n",
    "    \n",
    "    return losses, accuracy, all_output_probs\n"
   ]
  },
  {
   "cell_type": "code",
   "execution_count": null,
   "metadata": {},
   "outputs": [],
   "source": [
    "\n",
    "train_accs = []\n",
    "valid_accs = []\n",
    "train_losses = []\n",
    "valid_losses = []\n",
    "\n",
    "for eboch in range(epochs):\n",
    "    \n",
    "    train_loss, train_acc = training(train_dataloader, model, optimizer, scheduler)\n",
    "    valid_loss, valid_acc, valid_probs = validating(valid_dataloader, model)\n",
    "    \n",
    "    print('train losses: %.4f' % train_loss, 'train accuracy: %.4f' % train_acc)\n",
    "    print('valid losses: %.4f' % valid_loss, 'valid accuracy: %.4f' % valid_acc)\n",
    "    train_losses.append(train_loss)\n",
    "    valid_losses.append(valid_loss)\n",
    "    train_accs.append(train_acc)\n",
    "    valid_accs.append(valid_acc)\n",
    "    \n",
    "model.save_pretrained('./fintune_bert')\n",
    "\n",
    "    "
   ]
  },
  {
   "cell_type": "code",
   "execution_count": null,
   "metadata": {},
   "outputs": [
    {
     "data": {
      "text/plain": [
       "\"\\nx = np.arange(epochs)\\nfig, ax = plt.subplots(1, 2, figsize = (15,4))\\nax[0].plot(x, train_losses)\\nax[0].plot(x, valid_losses)\\nax[0].set_ylabel('Losses', weight = 'bold')\\nax[0].set_xlabel('Epochs')\\nax[0].grid(alpha = 0.3)\\nax[0].legend(labels = ['train losses', 'valid losses'])\\n\\nax[1].plot(x, train_accs)\\nax[1].plot(x, valid_accs)\\nax[1].set_ylabel('Accuracy', weight = 'bold')\\nax[1].set_xlabel('Epochs')\\nax[1].legend(labels = ['train acc', 'valid acc'])\\n\\nax[1].grid(alpha = 0.3)\\nfig.suptitle('Fold = 0', weight = 'bold') \\n\""
      ]
     },
     "execution_count": 84,
     "metadata": {},
     "output_type": "execute_result"
    }
   ],
   "source": [
    "\n",
    "x = np.arange(epochs)\n",
    "fig, ax = plt.subplots(1, 2, figsize = (15,4))\n",
    "ax[0].plot(x, train_losses)\n",
    "ax[0].plot(x, valid_losses)\n",
    "ax[0].set_ylabel('Losses', weight = 'bold')\n",
    "ax[0].set_xlabel('Epochs')\n",
    "ax[0].grid(alpha = 0.3)\n",
    "ax[0].legend(labels = ['train losses', 'valid losses'])\n",
    "\n",
    "ax[1].plot(x, train_accs)\n",
    "ax[1].plot(x, valid_accs)\n",
    "ax[1].set_ylabel('Accuracy', weight = 'bold')\n",
    "ax[1].set_xlabel('Epochs')\n",
    "ax[1].legend(labels = ['train accuracy', 'valid accuracy'])\n",
    "\n",
    "ax[1].grid(alpha = 0.3)\n",
    "fig.suptitle('Fold = 0', weight = 'bold') \n"
   ]
  },
  {
   "cell_type": "code",
   "execution_count": null,
   "metadata": {},
   "outputs": [
    {
     "data": {
      "text/plain": [
       "'\\nconfig_path = \\'./fintune_bert/config.json\\'\\nmodel_path = \\'./fintune_bert/model.safetensors\\'\\nconfig = transformers.BertConfig.from_json_file(config_path)\\nmodel = transformers.BertForSequenceClassification.from_pretrained(model_path, config=config).to(device) \\nvalid_loss, valid_acc, valid_probs = validating(valid_dataloader, model)\\nvalid_probs = np.asarray(valid_probs).flatten()\\ny_valid = p_valid[[\\'toxic\\', \\'severe_toxic\\',\\'obscene\\', \\'threat\\', \\'insult\\',\\'identity_hate\\']].to_numpy().flatten()\\nfpr, tpr, _ = roc_curve(y_valid, valid_probs)\\n\\nprint(\"Valid AUC_score : \" + str(roc_auc_score(y_valid, valid_probs)))\\n\\nfig, ax = plt.subplots()\\nax.plot(fpr, tpr)\\nax.set_title(\\'ROC Curv\\')\\nax.set_xlabel(\\'FPR\\')\\nax.set_ylabel(\\'TPR\\')\\nplt.show()\\n'"
      ]
     },
     "execution_count": 85,
     "metadata": {},
     "output_type": "execute_result"
    }
   ],
   "source": [
    "\n",
    "config_path = './fintune_bert/config.json'\n",
    "model_path = './fintune_bert/model.safetensors'\n",
    "config = transformers.BertConfig.from_json_file(config_path)\n",
    "model = transformers.BertForSequenceClassification.from_pretrained(model_path, config=config).to(device) \n",
    "valid_loss, valid_acc, valid_probs = validating(valid_dataloader, model)\n",
    "valid_probs = np.asarray(valid_probs).flatten()\n",
    "y_valid = p_valid[['toxic', 'severe_toxic','obscene', 'threat', 'insult','identity_hate']].to_numpy().flatten()\n",
    "fpr, tpr, _ = roc_curve(y_valid, valid_probs)\n",
    "\n",
    "print(\"Valid AUC_score : \" + str(roc_auc_score(y_valid, valid_probs)))\n",
    "\n",
    "fig, ax = plt.subplots()\n",
    "ax.plot(fpr, tpr)\n",
    "ax.set_title('ROC Curv')\n",
    "ax.set_xlabel('FPR')\n",
    "ax.set_ylabel('TPR')\n",
    "plt.show()\n"
   ]
  },
  {
   "cell_type": "markdown",
   "metadata": {},
   "source": [
    "# Evaluation"
   ]
  },
  {
   "cell_type": "code",
   "execution_count": null,
   "metadata": {},
   "outputs": [],
   "source": [
    "#import gc\n",
    "#tokenizer = None\n",
    "#best_model = None\n",
    "#model = None\n",
    "#torch.cuda.empty_cache()\n",
    "#gc.collect()"
   ]
  },
  {
   "cell_type": "code",
   "execution_count": null,
   "metadata": {},
   "outputs": [],
   "source": [
    "# Multilabel ROC_AUC\n",
    "def get_roc_auc(test_label, y_prob):\n",
    "    # input: test_labels dim: (num_samples, num_labels), y_prob dim: (num_samples, num_labels)\n",
    "    y_label_np = test_label.numpy() if hasattr(test_label, 'numpy') else test_label.cpu().numpy()\n",
    "    y_test_np = y_prob.numpy() if hasattr(y_prob, 'numpy') else y_prob.cpu().numpy()\n",
    "\n",
    "    n_classes = y_label_np.shape[1]  # Number of classes/labels\n",
    "\n",
    "# Initialize lists to store fpr and tpr for each label\n",
    "    all_fpr = []\n",
    "    all_tpr = []\n",
    "    label_names = []\n",
    "    auc_scores = []\n",
    "    # Compute ROC curve for each label\n",
    "    for i in range(n_classes):\n",
    "        fpr, tpr, _ = roc_curve(y_label_np[:, i], y_test_np[:, i])\n",
    "        all_fpr.append(fpr)\n",
    "        all_tpr.append(tpr)\n",
    "        auc = roc_auc_score(y_label_np[:, i], y_test_np[:, i])\n",
    "        label_names.append(f\"Label {i}\")\n",
    "        auc_scores.append(auc)\n",
    "\n",
    "    # Plot ROC curve for each label\n",
    "    plt.figure(figsize=(10, 6))\n",
    "    for i in range(n_classes):\n",
    "        plt.plot(all_fpr[i], all_tpr[i], label=f'ROC curve (Label {i})')\n",
    "\n",
    "    plt.plot([0, 1], [0, 1], color='navy', linestyle='--')\n",
    "    plt.xlim([0.0, 1.0])\n",
    "    plt.ylim([0.0, 1.05])\n",
    "    plt.xlabel('False Positive Rate')\n",
    "    plt.ylabel('True Positive Rate')\n",
    "    plt.title('ROC Curve for each label')\n",
    "    plt.legend(loc='lower right')\n",
    "    plt.show()\n",
    "    auc_table = pd.DataFrame({'Label': label_names, 'AUC Score': auc_scores})\n",
    "\n",
    "    print(auc_table)\n",
    "     "
   ]
  },
  {
   "cell_type": "code",
   "execution_count": null,
   "metadata": {},
   "outputs": [],
   "source": [
    "def get_accuracy(y_label, y_test):\n",
    "    prediction = torch.where(y_test > 0.5, 1, 0)\n",
    "    y_label_np = prediction.numpy() if hasattr(prediction, 'numpy') else prediction.cpu().numpy()\n",
    "    y_test_np = y_label.numpy() if hasattr(y_label, 'numpy') else y_label.cpu().numpy()\n",
    "    \n",
    "    n_class = y_label_np.shape[1]\n",
    "    n_samples = y_label_np.shape[0]\n",
    "\n",
    "    total_num = y_label_np.shape[0] * y_label_np.shape[1]\n",
    "    correct = 0\n",
    "    for i in range(n_class):\n",
    "        for j in range(n_samples):\n",
    "            if y_test_np[j,i] == y_label_np[j,i]:\n",
    "                correct += 1 \n",
    "    accuracy = correct / total_num\n",
    "    return accuracy\n"
   ]
  },
  {
   "cell_type": "code",
   "execution_count": null,
   "metadata": {},
   "outputs": [],
   "source": [
    "def get_new_accuracy(y_label, y_test):\n",
    "    prediction = torch.where(y_test > 0.5, 1, 0)\n",
    "    y_label_np = prediction.numpy() if hasattr(prediction, 'numpy') else prediction.cpu().numpy()\n",
    "    y_test_np = y_label.numpy() if hasattr(y_label, 'numpy') else y_label.cpu().numpy()\n",
    "    \n",
    "    n_class = y_label_np.shape[1]\n",
    "    n_samples = y_label_np.shape[0]\n",
    "\n",
    "    total_num = y_label_np.shape[0] * y_label_np.shape[1]\n",
    "    false = 0\n",
    "    for i in range(n_samples):\n",
    "        for j in range(n_class):\n",
    "            if y_test_np[i,j] != y_label_np[i,j]:\n",
    "                false += 1\n",
    "                continue \n",
    "    accuracy = 1- false / n_samples\n",
    "    return accuracy"
   ]
  },
  {
   "cell_type": "code",
   "execution_count": null,
   "metadata": {},
   "outputs": [],
   "source": [
    "def get_F1(y_label, y_test):\n",
    "    prediction = torch.where(y_test > 0.5, 1, 0)\n",
    "    y_label_np = prediction.numpy() if hasattr(prediction, 'numpy') else prediction.cpu().numpy()\n",
    "    y_test_np = y_label.numpy() if hasattr(y_label, 'numpy') else y_label.cpu().numpy()\n",
    "    \n",
    "    n_class = y_label_np.shape[1]\n",
    "    n_samples = y_label_np.shape[0]\n",
    "\n",
    "    f1_scores = []\n",
    "    for i in range(n_class):\n",
    "        true_positives = 0\n",
    "        false_positives = 0\n",
    "        false_negatives = 0\n",
    "        for j in range(n_samples):\n",
    "            if y_test_np[j,i] == 1 and y_label_np[j,i] == 1:\n",
    "                true_positives += 1\n",
    "            elif y_test_np[j,i] == 1 and y_label_np[j,i] == 0:\n",
    "                false_positives += 1\n",
    "            elif y_test_np[j,i] == 0 and y_label_np[j,i] == 1:\n",
    "                false_negatives += 1\n",
    "\n",
    "        precision = true_positives / max(1, true_positives + false_positives)\n",
    "        recall = true_positives / max(1, true_positives + false_negatives)\n",
    "        \n",
    "        f1 = 2 * (precision * recall) / max(1e-6, precision + recall)\n",
    "        f1_scores.append(f1)\n",
    "\n",
    "    return f1_scores"
   ]
  },
  {
   "cell_type": "code",
   "execution_count": 9,
   "metadata": {},
   "outputs": [],
   "source": [
    "#loading test_dataset\n",
    "test_dataset = BertDataSet(new_test['clean'], None, tokenizer, 128, if_train = False)\n",
    "test_dataloader = dataloader.DataLoader(test_dataset, batch_size = 64, pin_memory = True, num_workers = 0, shuffle = True)\n",
    "\n",
    "config_path = './fintune_bert/config.json'\n",
    "model_path = './fintune_bert/model.safetensors'\n",
    "#new_model_path = './best_model.pth'\n",
    "\n",
    "config = transformers.BertConfig.from_json_file(config_path)\n",
    "best_model = transformers.BertForSequenceClassification.from_pretrained(model_path, config=config).to(device)\n",
    "\n",
    "#best_model = transformers.BertForSequenceClassification.from_pretrained('bert-base-uncased', num_labels = 6).to(device)\n",
    "\n",
    "probability_tensors = None"
   ]
  },
  {
   "cell_type": "code",
   "execution_count": 10,
   "metadata": {},
   "outputs": [
    {
     "name": "stdout",
     "output_type": "stream",
     "text": [
      "63978\n"
     ]
    }
   ],
   "source": [
    "print(len(test_dataset))"
   ]
  },
  {
   "cell_type": "code",
   "execution_count": 11,
   "metadata": {},
   "outputs": [
    {
     "name": "stderr",
     "output_type": "stream",
     "text": [
      "100%|██████████| 1000/1000 [02:28<00:00,  6.75it/s]\n"
     ]
    },
    {
     "name": "stdout",
     "output_type": "stream",
     "text": [
      "tensor([[0.0479, 0.0182, 0.0309, 0.0180, 0.0261, 0.0176],\n",
      "        [0.0352, 0.0201, 0.0269, 0.0213, 0.0247, 0.0204],\n",
      "        [0.0352, 0.0201, 0.0270, 0.0216, 0.0258, 0.0210],\n",
      "        ...,\n",
      "        [0.0374, 0.0194, 0.0272, 0.0214, 0.0251, 0.0205],\n",
      "        [0.0388, 0.0196, 0.0264, 0.0210, 0.0265, 0.0200],\n",
      "        [0.0365, 0.0200, 0.0274, 0.0213, 0.0253, 0.0205]])\n"
     ]
    }
   ],
   "source": [
    "best_model.eval()\n",
    "with torch.no_grad():\n",
    "    for test in tqdm(test_dataloader):\n",
    "        \n",
    "        ids = test['input_ids'].to(device)\n",
    "        mask = test['mask'].to(device)\n",
    "        outputs = best_model(ids, mask)\n",
    "        #print(outputs.keys())\n",
    "        results = outputs['logits']\n",
    "        #print(results)\n",
    "        \n",
    "        raw_predictions = torch.sigmoid(results)    \n",
    "        prediction = torch.where(raw_predictions > 0.5, 1, 0)\n",
    "        \n",
    "        #print(raw_predictions)\n",
    "        #print(prediction)\n",
    "        \n",
    "        if probability_tensors == None:\n",
    "            probability_tensors = raw_predictions\n",
    "        else:\n",
    "            probability_tensors = torch.cat((probability_tensors, raw_predictions), dim=0)\n",
    "            \n",
    "        #break\n",
    "        \n",
    "    probability_tensors = probability_tensors.detach().to('cpu')   \n",
    "    print(probability_tensors)"
   ]
  },
  {
   "cell_type": "markdown",
   "metadata": {},
   "source": [
    "#"
   ]
  },
  {
   "cell_type": "code",
   "execution_count": 12,
   "metadata": {},
   "outputs": [],
   "source": [
    "'''\n",
    "ground_truth = torch.tensor(new_test[['toxic', 'severe_toxic','obscene', 'threat', 'insult','identity_hate']].values)\n",
    "y_rand = torch.rand(200,6)\n",
    "# print(y_test)\n",
    "# print(y_label)\n",
    "get_roc_auc(ground_truth, probability_tensors)\n",
    "#get_roc_auc(y_label, y_rand)\n",
    "'''\n",
    "df = pd.DataFrame(probability_tensors)\n",
    "df.to_csv('test_dataset_output_predictions.csv', index=True)\n"
   ]
  },
  {
   "cell_type": "code",
   "execution_count": null,
   "metadata": {},
   "outputs": [
    {
     "data": {
      "image/png": "[encoded data removed]",
      "text/plain": [
       "<Figure size 640x480 with 1 Axes>"
      ]
     },
     "metadata": {},
     "output_type": "display_data"
    },
    {
     "name": "stdout",
     "output_type": "stream",
     "text": [
      "AUC score : 0.5712584930723932\n",
      "Accuracy : 0.9622318088509592\n"
     ]
    }
   ],
   "source": [
    "probability = np.asarray(probability_tensors).flatten()\n",
    "ground_truth = new_test[['toxic', 'severe_toxic','obscene', 'threat', 'insult','identity_hate']].to_numpy().flatten()\n",
    "fpr, tpr, _ = roc_curve(ground_truth, probability)\n",
    "\n",
    "post_probability = np.where(probability > 0.5, 1, 0)\n",
    "accuracy = np.sum(ground_truth == post_probability)/probability.shape[0]\n",
    "\n",
    "\n",
    "fig, ax = plt.subplots()\n",
    "ax.plot(fpr, tpr)\n",
    "ax.set_title('ROC Curv')\n",
    "ax.set_xlabel('FPR')\n",
    "ax.set_ylabel('TPR')\n",
    "plt.show()\n",
    "\n",
    "print(\"AUC score : \" + str(roc_auc_score(ground_truth, probability)))\n",
    "print(\"Accuracy : \" + str(accuracy))"
   ]
  },
  {
   "cell_type": "code",
   "execution_count": null,
   "metadata": {},
   "outputs": [
    {
     "data": {
      "text/plain": [
       "0.9622318088509592"
      ]
     },
     "execution_count": 96,
     "metadata": {},
     "output_type": "execute_result"
    }
   ],
   "source": [
    "ground_truth = torch.tensor(new_test[['toxic', 'severe_toxic','obscene', 'threat', 'insult','identity_hate']].values)\n",
    "get_accuracy(ground_truth, probability_tensors)"
   ]
  },
  {
   "cell_type": "code",
   "execution_count": null,
   "metadata": {},
   "outputs": [
    {
     "data": {
      "text/plain": [
       "0.7733908531057552"
      ]
     },
     "execution_count": 97,
     "metadata": {},
     "output_type": "execute_result"
    }
   ],
   "source": [
    "get_new_accuracy(ground_truth, probability_tensors)"
   ]
  },
  {
   "cell_type": "code",
   "execution_count": null,
   "metadata": {},
   "outputs": [
    {
     "data": {
      "text/plain": [
       "[0.0, 0.0, 0.0, 0.0, 0.0, 0.0]"
      ]
     },
     "execution_count": 98,
     "metadata": {},
     "output_type": "execute_result"
    }
   ],
   "source": [
    "get_F1(ground_truth,probability_tensors)"
   ]
  }
 ],
 "metadata": {
  "kernelspec": {
   "display_name": "Python 3",
   "language": "python",
   "name": "python3"
  },
  "language_info": {
   "codemirror_mode": {
    "name": "ipython",
    "version": 3
   },
   "file_extension": ".py",
   "mimetype": "text/x-python",
   "name": "python",
   "nbconvert_exporter": "python",
   "pygments_lexer": "ipython3",
   "version": "3.12.1"
  }
 },
 "nbformat": 4,
 "nbformat_minor": 2
}
